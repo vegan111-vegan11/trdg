{
 "cells": [
  {
   "cell_type": "code",
   "execution_count": 1,
   "id": "4db08175",
   "metadata": {},
   "outputs": [
    {
     "ename": "SyntaxError",
     "evalue": "invalid syntax (1095307138.py, line 1)",
     "output_type": "error",
     "traceback": [
      "\u001b[1;36m  Cell \u001b[1;32mIn[1], line 1\u001b[1;36m\u001b[0m\n\u001b[1;33m    python run.py --count 263 --input_file \"C:\\Users\\TAMSystech\\yjh\\ipynb\\TextRecognitionDataGenerator\\trdg\\dicts\\전체 언어 텍스트 파일\\th.txt\" --output_dir \"C:\\Users\\TAMSystech\\yjh\\ipynb\\TextRecognitionDataGenerator\\out\\th\\Athiti-Bold2\" -l th -ft \"C:\\Users\\TAMSystech\\yjh\\ipynb\\TextRecognitionDataGenerator\\trdg\\fonts\\전체 언어 폰트 파일\\Athiti-Bold.ttf\"\u001b[0m\n\u001b[1;37m           ^\u001b[0m\n\u001b[1;31mSyntaxError\u001b[0m\u001b[1;31m:\u001b[0m invalid syntax\n"
     ]
    }
   ],
   "source": [
    "python run.py --count 263 --input_file \"C:\\Users\\TAMSystech\\yjh\\ipynb\\TextRecognitionDataGenerator\\trdg\\dicts\\전체 언어 텍스트 파일\\th.txt\" --output_dir \"C:\\Users\\TAMSystech\\yjh\\ipynb\\TextRecognitionDataGenerator\\out\\th\\Athiti-Bold2\" -l th -ft \"C:\\Users\\TAMSystech\\yjh\\ipynb\\TextRecognitionDataGenerator\\trdg\\fonts\\전체 언어 폰트 파일\\Athiti-Bold.ttf\"\n",
    "\n"
   ]
  },
  {
   "cell_type": "code",
   "execution_count": 4,
   "id": "c76315b9",
   "metadata": {},
   "outputs": [
    {
     "name": "stdout",
     "output_type": "stream",
     "text": [
      "\n",
      "Note: you may need to restart the kernel to use updated packages.\n"
     ]
    }
   ],
   "source": [
    "conda activate ocr2_2\n"
   ]
  },
  {
   "cell_type": "code",
   "execution_count": 1,
   "id": "b6ae6991",
   "metadata": {},
   "outputs": [
    {
     "name": "stdout",
     "output_type": "stream",
     "text": [
      "!!!!!!!!!!!!!!!!!!!!!!!!!!!!!!!run.py args.use_wikipedia : False"
     ]
    },
    {
     "name": "stderr",
     "output_type": "stream",
     "text": [
      "\n",
      "  0%|          | 0/263 [00:00<?, ?it/s]\n",
      "  0%|          | 0/263 [00:02<?, ?it/s]\n",
      "multiprocessing.pool.RemoteTraceback: \n",
      "\"\"\"\n",
      "Traceback (most recent call last):\n",
      "  File \"C:\\Users\\TAMSystech\\anaconda3\\Lib\\multiprocessing\\pool.py\", line 125, in worker\n",
      "    result = (True, func(*args, **kwds))\n",
      "                    ^^^^^^^^^^^^^^^^^^^\n",
      "  File \"C:\\Users\\TAMSystech\\anaconda3\\Lib\\site-packages\\trdg\\data_generator.py\", line 22, in generate_from_tuple\n",
      "    cls.generate(*t)\n",
      "  File \"C:\\Users\\TAMSystech\\anaconda3\\Lib\\site-packages\\trdg\\data_generator.py\", line 72, in generate\n",
      "    image, mask = computer_text_generator.generate(\n",
      "                  ^^^^^^^^^^^^^^^^^^^^^^^^^^^^^^^^^\n",
      "  File \"C:\\Users\\TAMSystech\\anaconda3\\Lib\\site-packages\\trdg\\computer_text_generator.py\", line 36, in generate\n",
      "    return _generate_horizontal_text(\n",
      "           ^^^^^^^^^^^^^^^^^^^^^^^^^^\n",
      "  File \"C:\\Users\\TAMSystech\\anaconda3\\Lib\\site-packages\\trdg\\computer_text_generator.py\", line 107, in _generate_horizontal_text\n",
      "    text_height = max([get_text_height(image_font, p) for p in splitted_text])\n",
      "                      ^^^^^^^^^^^^^^^^^^^^^^^^^^^^^^^^^^^^^^^^^^^^^^^^^^^^^^^\n",
      "  File \"C:\\Users\\TAMSystech\\anaconda3\\Lib\\site-packages\\trdg\\computer_text_generator.py\", line 107, in <listcomp>\n",
      "    text_height = max([get_text_height(image_font, p) for p in splitted_text])\n",
      "                       ^^^^^^^^^^^^^^^^^^^^^^^^^^^^^^\n",
      "  File \"C:\\Users\\TAMSystech\\anaconda3\\Lib\\site-packages\\trdg\\utils.py\", line 122, in get_text_height\n",
      "    return image_font.getsize(text)[1]\n",
      "           ^^^^^^^^^^^^^^^^^^\n",
      "AttributeError: 'FreeTypeFont' object has no attribute 'getsize'\n",
      "\"\"\"\n",
      "\n",
      "The above exception was the direct cause of the following exception:\n",
      "\n",
      "Traceback (most recent call last):\n",
      "  File \"C:\\Users\\TAMSystech\\yjh\\ipynb\\TextRecognitionDataGenerator\\trdg\\run.py\", line 674, in <module>\n",
      "    main()\n",
      "  File \"C:\\Users\\TAMSystech\\yjh\\ipynb\\TextRecognitionDataGenerator\\trdg\\run.py\", line 544, in main\n",
      "    for _ in tqdm(\n",
      "  File \"C:\\Users\\TAMSystech\\anaconda3\\Lib\\site-packages\\tqdm\\std.py\", line 1178, in __iter__\n",
      "    for obj in iterable:\n",
      "  File \"C:\\Users\\TAMSystech\\anaconda3\\Lib\\multiprocessing\\pool.py\", line 873, in next\n",
      "    raise value\n",
      "  File \"C:\\Users\\TAMSystech\\anaconda3\\Lib\\multiprocessing\\pool.py\", line 125, in worker\n",
      "    result = (True, func(*args, **kwds))\n",
      "^^^^^^^^^^^^^^^\n",
      "  File \"C:\\Users\\TAMSystech\\anaconda3\\Lib\\site-packages\\trdg\\data_generator.py\", line 22, in generate_from_tuple\n",
      "    cls.generate(*t)\n",
      "  ^^^^^^^^^^^^^^^^^\n",
      "  File \"C:\\Users\\TAMSystech\\anaconda3\\Lib\\site-packages\\trdg\\data_generator.py\", line 72, in generate\n",
      "    image, mask = computer_text_generator.generate(\n",
      "^^^^^^^^^^^^^^^\n",
      "  File \"C:\\Users\\TAMSystech\\anaconda3\\Lib\\site-packages\\trdg\\computer_text_generator.py\", line 36, in generate\n",
      "    return _generate_horizontal_text(\n",
      "  ^^^^^^^^^^^^^^^^^\n",
      "  File \"C:\\Users\\TAMSystech\\anaconda3\\Lib\\site-packages\\trdg\\computer_text_generator.py\", line 107, in _generate_horizontal_text\n",
      "    text_height = max([get_text_height(image_font, p) for p in splitted_text])\n",
      "      ^^^^^^^^^^^^^^^^^\n",
      "  File \"C:\\Users\\TAMSystech\\anaconda3\\Lib\\site-packages\\trdg\\computer_text_generator.py\", line 107, in <listcomp>\n",
      "    text_height = max([get_text_height(image_font, p) for p in splitted_text])\n",
      "      ^^^^^^^^^^^^^^^^^\n",
      "  File \"C:\\Users\\TAMSystech\\anaconda3\\Lib\\site-packages\\trdg\\utils.py\", line 122, in get_text_height\n",
      "    return image_font.getsize(text)[1]\n",
      "      ^^^^^^^^^^^^^^^^^\n",
      "AttributeError: 'FreeTypeFont' object has no attribute 'getsize'\n"
     ]
    },
    {
     "name": "stdout",
     "output_type": "stream",
     "text": [
      "\n",
      "!!!!!!!!!!!!!!!!!!!!!!!!!!!!!!!run.py args.input_file : C:\\Users\\TAMSystech\\yjh\\ipynb\\TextRecognitionDataGenerator\\trdg\\dicts\\전체 언어 텍스트 파일\\th.txt\n",
      "!!!!!!!!!!!!!!!!!!!!!!!!!!!!!!!run.py args.random_sequences : False\n",
      "run.py args.input_file != args.input_file : C:\\Users\\TAMSystech\\yjh\\ipynb\\TextRecognitionDataGenerator\\trdg\\dicts\\전체 언어 텍스트 파일\\th.txt\n",
      "run.py args.input_file != args.count: 263\n",
      "run.py args.input_file != strings type(args.input_file) : <class 'str'>\n",
      "run.py args.input_file != strings type(args.count): <class 'int'>\n",
      "run.py string_count : 263\n",
      "!!!!!!!!!!!!!!!!run.py args.name_format : 0\n",
      "!!!!!!!!!!!!!!!!run.py p : <multiprocessing.pool.Pool state=RUN pool_size=1>\n",
      "!!!!!!!!!!!!!!!!run.py generate_from_tuple : <bound method FakeTextDataGenerator.generate_from_tuple of <class 'trdg.data_generator.FakeTextDataGenerator'>>\n",
      "!!!!!!!!!!!!!!!!run.py fontss : ['C:\\\\Users\\\\TAMSystech\\\\yjh\\\\ipynb\\\\TextRecognitionDataGenerator\\\\trdg\\\\fonts\\\\전체 언어 폰트 파일\\\\Athiti-Bold.ttf']\n",
      "!!!!!!!!!!!!!!!!run.py string_count : 263\n",
      "!!!!!!!!!!!!!!!!run.py type string_count : <class 'int'>\n",
      "!!!!!!!!!!!!!!!!run.py args.format : 32\n"
     ]
    }
   ],
   "source": [
    "!python run.py --count 263 --input_file \"C:\\Users\\TAMSystech\\yjh\\ipynb\\TextRecognitionDataGenerator\\trdg\\dicts\\전체 언어 텍스트 파일\\th.txt\" --output_dir \"C:\\Users\\TAMSystech\\yjh\\ipynb\\TextRecognitionDataGenerator\\out\\th\\Athiti-Bold2\" -l th -ft \"C:\\Users\\TAMSystech\\yjh\\ipynb\\TextRecognitionDataGenerator\\trdg\\fonts\\전체 언어 폰트 파일\\Athiti-Bold.ttf\"\n"
   ]
  },
  {
   "cell_type": "code",
   "execution_count": null,
   "id": "46375d37",
   "metadata": {},
   "outputs": [],
   "source": []
  }
 ],
 "metadata": {
  "kernelspec": {
   "display_name": "ocr2",
   "language": "python",
   "name": "ocr2"
  },
  "language_info": {
   "codemirror_mode": {
    "name": "ipython",
    "version": 3
   },
   "file_extension": ".py",
   "mimetype": "text/x-python",
   "name": "python",
   "nbconvert_exporter": "python",
   "pygments_lexer": "ipython3",
   "version": "3.8.18"
  }
 },
 "nbformat": 4,
 "nbformat_minor": 5
}
